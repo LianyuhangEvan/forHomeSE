{
 "cells": [
  {
   "cell_type": "code",
   "execution_count": 1,
   "id": "340691ce",
   "metadata": {},
   "outputs": [
    {
     "data": {
      "text/plain": [
       "(True, False, True, True)"
      ]
     },
     "execution_count": 1,
     "metadata": {},
     "output_type": "execute_result"
    }
   ],
   "source": [
    "class TrieNode:\n",
    "    # 初始化 Trie 节点\n",
    "    def __init__(self):\n",
    "        self.children = {}\n",
    "        self.is_end_of_word = False\n",
    "\n",
    "class Trie:\n",
    "    def __init__(self):\n",
    "        # Trie 初始化\n",
    "        self.root = TrieNode()\n",
    "\n",
    "    def insert(self, word: str) -> None:\n",
    "        # 插入单词\n",
    "        node = self.root\n",
    "        for char in word:\n",
    "            if char not in node.children:\n",
    "                node.children[char] = TrieNode()\n",
    "            node = node.children[char]\n",
    "        node.is_end_of_word = True\n",
    "\n",
    "    def search(self, word: str) -> bool:\n",
    "        # 搜索单词\n",
    "        node = self.root\n",
    "        for char in word:\n",
    "            if char not in node.children:\n",
    "                return False\n",
    "            node = node.children[char]\n",
    "        return node.is_end_of_word\n",
    "\n",
    "    def startsWith(self, prefix: str) -> bool:\n",
    "        # 搜索前缀\n",
    "        node = self.root\n",
    "        for char in prefix:\n",
    "            if char not in node.children:\n",
    "                return False\n",
    "            node = node.children[char]\n",
    "        return True\n",
    "\n",
    "# 测试 Trie 类\n",
    "trie = Trie()\n",
    "trie.insert(\"apple\")\n",
    "output1 = trie.search(\"apple\")  # 返回 True\n",
    "output2 = trie.search(\"app\")    # 返回 False\n",
    "output3 = trie.startsWith(\"app\") # 返回 True\n",
    "trie.insert(\"app\")\n",
    "output4 = trie.search(\"app\")    # 返回 True\n",
    "\n",
    "(output1, output2, output3, output4)\n"
   ]
  },
  {
   "cell_type": "code",
   "execution_count": null,
   "id": "b578cdec",
   "metadata": {},
   "outputs": [],
   "source": []
  }
 ],
 "metadata": {
  "kernelspec": {
   "display_name": "Python 3 (ipykernel)",
   "language": "python",
   "name": "python3"
  },
  "language_info": {
   "codemirror_mode": {
    "name": "ipython",
    "version": 3
   },
   "file_extension": ".py",
   "mimetype": "text/x-python",
   "name": "python",
   "nbconvert_exporter": "python",
   "pygments_lexer": "ipython3",
   "version": "3.11.5"
  }
 },
 "nbformat": 4,
 "nbformat_minor": 5
}
