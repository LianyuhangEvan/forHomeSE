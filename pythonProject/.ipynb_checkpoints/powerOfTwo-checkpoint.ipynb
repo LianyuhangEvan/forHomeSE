{
 "cells": [
  {
   "cell_type": "code",
   "execution_count": 2,
   "id": "5372b04c",
   "metadata": {},
   "outputs": [
    {
     "name": "stdout",
     "output_type": "stream",
     "text": [
      "False\n"
     ]
    }
   ],
   "source": [
    "def powerOfTwo(x):\n",
    "    check_num = 1\n",
    "    while(check_num < x):\n",
    "        check_num *= 2\n",
    "        \n",
    "    return check_num == x\n",
    "\n",
    "\n",
    "print(powerOfTwo(6))"
   ]
  },
  {
   "cell_type": "code",
   "execution_count": 3,
   "id": "06ef7db1",
   "metadata": {},
   "outputs": [
    {
     "name": "stdout",
     "output_type": "stream",
     "text": [
      "Recursive approach: [5, 4, 3, 2, 1]\n"
     ]
    }
   ],
   "source": [
    "# class ListNode:\n",
    "#     def __init__(self, val = 0, next = None):\n",
    "#         self.val = val\n",
    "#         self.next = next\n",
    "        \n",
    "\n",
    "\n",
    "# def reverseListRecursive(head, prev = None):\n",
    "#     if not head:\n",
    "#         return prev\n",
    "#     next_temp = head.next\n",
    "#     head.next = prev\n",
    "    \n",
    "#     return reverseListRecursive(next_temp, head)\n",
    "\n",
    "# # 示例创建链表\n",
    "# def createLinkedList(lst):\n",
    "#     if not lst:\n",
    "#         return None\n",
    "#     head = ListNode(lst[0])\n",
    "#     current = head\n",
    "#     for value in lst[1:]:\n",
    "#         current.next = ListNode(value)\n",
    "#         current = current.next\n",
    "#     return head\n",
    "\n",
    "# # 示例打印链表\n",
    "# def printLinkedList(head):\n",
    "#     values = []\n",
    "#     while head:\n",
    "#         values.append(head.val)\n",
    "#         head = head.next\n",
    "#     return values\n",
    "\n",
    "\n",
    "# head_example = createLinkedList([1, 2, 3, 4, 5])\n",
    "# reversed_recursive = reverseListRecursive(head_example)\n",
    "# print(\"Recursive approach:\", printLinkedList(reversed_recursive))"
   ]
  },
  {
   "cell_type": "code",
   "execution_count": 6,
   "id": "353c2719",
   "metadata": {},
   "outputs": [
    {
     "name": "stdout",
     "output_type": "stream",
     "text": [
      "[1, 2, 3, 4, 5]\n"
     ]
    }
   ],
   "source": [
    "class ListNode:\n",
    "    def __init__(self, val, next = None):\n",
    "        self.val = val\n",
    "        self.next = next\n",
    "        \n",
    "def reverseListRecursive(current_node, previous_node = None):\n",
    "    if current_node == None:\n",
    "        return previous_node\n",
    "    \n",
    "    next_node = current_node.next\n",
    "    current_node.next = previous_node\n",
    "    \n",
    "    return reverseListRecursive(next_node, current_node)\n",
    "\n",
    "def createLinkedList(lst):\n",
    "    if not lst:\n",
    "        return None\n",
    "    head = ListNode(lst[0])\n",
    "    current = head\n",
    "    for value in lst[1:]:\n",
    "        current.next = ListNode(value)\n",
    "        current = current.next\n",
    "    return head\n",
    "\n",
    "\n",
    "def printLinkedList(head):\n",
    "    values = []\n",
    "    while head:\n",
    "        values.append(head.val)\n",
    "        head = head.next\n",
    "    return values\n",
    "\n",
    "head_test = createLinkedList([1, 2, 3, 4, 5])\n",
    "print(printLinkedList(head_test))\n",
    "        "
   ]
  },
  {
   "cell_type": "code",
   "execution_count": null,
   "id": "15244bfb",
   "metadata": {},
   "outputs": [],
   "source": []
  }
 ],
 "metadata": {
  "kernelspec": {
   "display_name": "Python 3 (ipykernel)",
   "language": "python",
   "name": "python3"
  },
  "language_info": {
   "codemirror_mode": {
    "name": "ipython",
    "version": 3
   },
   "file_extension": ".py",
   "mimetype": "text/x-python",
   "name": "python",
   "nbconvert_exporter": "python",
   "pygments_lexer": "ipython3",
   "version": "3.11.5"
  }
 },
 "nbformat": 4,
 "nbformat_minor": 5
}
