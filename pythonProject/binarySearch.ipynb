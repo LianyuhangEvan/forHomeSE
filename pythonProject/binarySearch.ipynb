{
 "cells": [
  {
   "cell_type": "code",
   "execution_count": 3,
   "id": "a425aa63",
   "metadata": {},
   "outputs": [
    {
     "name": "stdout",
     "output_type": "stream",
     "text": [
      "1\n"
     ]
    }
   ],
   "source": [
    "# use binary search to find target num\n",
    "\n",
    "def binarySearch(aim_list, target, left, right):\n",
    "    if left > right:\n",
    "        return -1\n",
    "    mid = left + (right - left) // 2\n",
    "    \n",
    "    if aim_list[mid] == target:\n",
    "        return mid\n",
    "    elif aim_list[mid] < target:\n",
    "        return binarySearch(aim_list, target, mid + 1, right)\n",
    "    else:\n",
    "        return binarySearch(aim_list, target, left, mid - 1)\n",
    "\n",
    "def findTarget(num_list, target):\n",
    "    return binarySearch(num_list, target, 0, len(num_list))\n",
    "\n",
    "test_list = [0,2,3,4,6,7]\n",
    "target = 2\n",
    "print(findTarget(test_list, target))"
   ]
  },
  {
   "cell_type": "code",
   "execution_count": null,
   "id": "af28b630",
   "metadata": {},
   "outputs": [],
   "source": []
  }
 ],
 "metadata": {
  "kernelspec": {
   "display_name": "Python 3 (ipykernel)",
   "language": "python",
   "name": "python3"
  },
  "language_info": {
   "codemirror_mode": {
    "name": "ipython",
    "version": 3
   },
   "file_extension": ".py",
   "mimetype": "text/x-python",
   "name": "python",
   "nbconvert_exporter": "python",
   "pygments_lexer": "ipython3",
   "version": "3.11.5"
  }
 },
 "nbformat": 4,
 "nbformat_minor": 5
}
